{
 "cells": [
  {
   "cell_type": "code",
   "execution_count": null,
   "id": "b0b3c095",
   "metadata": {},
   "outputs": [],
   "source": []
  },
  {
   "cell_type": "code",
   "execution_count": 2,
   "id": "6acab7cd",
   "metadata": {},
   "outputs": [
    {
     "name": "stdout",
     "output_type": "stream",
     "text": [
      "bark\n"
     ]
    }
   ],
   "source": [
    "class Dog:\n",
    "    sound = \"bark\" \n",
    "\n",
    "# Create an object from the class\n",
    "dog1 = Dog()\n",
    "\n",
    "# Access the class attribute\n",
    "print(dog1.sound)"
   ]
  },
  {
   "cell_type": "code",
   "execution_count": 4,
   "id": "b13d66a2",
   "metadata": {},
   "outputs": [
    {
     "name": "stdout",
     "output_type": "stream",
     "text": [
      "A new dog named Buddy has been created!\n",
      "A new dog named Lucy has been created!\n",
      "Buddy is 5 years old.\n",
      "Lucy is 3 years old.\n"
     ]
    }
   ],
   "source": [
    "class Dog:\n",
    "    # The __init__ method initializes the object\n",
    "    def __init__(self, name, age):\n",
    "        # We assign the provided name and age to the object's attributes\n",
    "        self.name = name\n",
    "        self.age = age\n",
    "        print(f\"A new dog named {self.name} has been created!\")\n",
    "\n",
    "# Now we provide the attributes when creating the object\n",
    "dog1 = Dog(\"Buddy\", 5)\n",
    "dog2 = Dog(\"Lucy\", 3)\n",
    "\n",
    "# Accessing the unique attributes of each object\n",
    "print(f\"{dog1.name} is {dog1.age} years old.\") # Output: Buddy is 5 years old.\n",
    "print(f\"{dog2.name} is {dog2.age} years old.\") # Output: Lucy is 3 years old."
   ]
  },
  {
   "cell_type": "code",
   "execution_count": null,
   "id": "7d4d75f0",
   "metadata": {},
   "outputs": [],
   "source": []
  },
  {
   "cell_type": "code",
   "execution_count": null,
   "id": "8c67ffbe",
   "metadata": {},
   "outputs": [],
   "source": []
  },
  {
   "cell_type": "code",
   "execution_count": null,
   "id": "88b6e806",
   "metadata": {},
   "outputs": [],
   "source": []
  }
 ],
 "metadata": {
  "kernelspec": {
   "display_name": "Python 3",
   "language": "python",
   "name": "python3"
  },
  "language_info": {
   "codemirror_mode": {
    "name": "ipython",
    "version": 3
   },
   "file_extension": ".py",
   "mimetype": "text/x-python",
   "name": "python",
   "nbconvert_exporter": "python",
   "pygments_lexer": "ipython3",
   "version": "3.13.5"
  }
 },
 "nbformat": 4,
 "nbformat_minor": 5
}
